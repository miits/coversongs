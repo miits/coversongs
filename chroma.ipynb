{
 "cells": [
  {
   "cell_type": "code",
   "execution_count": 1,
   "metadata": {},
   "outputs": [],
   "source": [
    "import librosa"
   ]
  },
  {
   "cell_type": "code",
   "execution_count": 3,
   "metadata": {},
   "outputs": [],
   "source": [
    "import os\n",
    "\n",
    "DATA = os.path.join('.', 'data')\n",
    "TEST_SONG_1 = os.path.join(DATA, 'Cocaine', 'eric_clapton+Crossroads_2_Disc_3+07-Cocaine.mp3')\n",
    "TEST_SONG_2 = os.path.join(DATA, 'Let_It_Be', 'beatles+Let_It_Be+06-Let_It_Be.mp3')"
   ]
  },
  {
   "cell_type": "code",
   "execution_count": 4,
   "metadata": {},
   "outputs": [
    {
     "data": {
      "text/plain": [
       "array([[0.        , 0.3903466 , 0.30169566, ..., 0.25716222, 0.34127689,\n",
       "        0.31256432],\n",
       "       [0.        , 0.56169505, 0.46429684, ..., 0.24733558, 0.18633863,\n",
       "        0.16427638],\n",
       "       [0.        , 0.75814086, 0.78741586, ..., 0.36193825, 0.29900672,\n",
       "        0.11908095],\n",
       "       ...,\n",
       "       [0.        , 1.        , 0.75935509, ..., 0.53685256, 0.42659188,\n",
       "        0.31371203],\n",
       "       [0.        , 0.74431013, 1.        , ..., 0.51222282, 0.3856961 ,\n",
       "        0.20798308],\n",
       "       [0.        , 0.59903986, 0.51077364, ..., 0.26669789, 0.32583853,\n",
       "        0.30713897]])"
      ]
     },
     "execution_count": 4,
     "metadata": {},
     "output_type": "execute_result"
    }
   ],
   "source": [
    "x, sr = librosa.load(TEST_SONG_1)\n",
    "chroma = librosa.feature.chroma_stft(y=x, sr=sr)\n",
    "chroma"
   ]
  },
  {
   "cell_type": "code",
   "execution_count": 5,
   "metadata": {},
   "outputs": [
    {
     "data": {
      "text/plain": [
       "(12, 17140)"
      ]
     },
     "execution_count": 5,
     "metadata": {},
     "output_type": "execute_result"
    }
   ],
   "source": [
    "chroma.shape"
   ]
  },
  {
   "cell_type": "code",
   "execution_count": null,
   "metadata": {},
   "outputs": [],
   "source": []
  }
 ],
 "metadata": {
  "kernelspec": {
   "display_name": "Python 3",
   "language": "python",
   "name": "python3"
  },
  "language_info": {
   "codemirror_mode": {
    "name": "ipython",
    "version": 3
   },
   "file_extension": ".py",
   "mimetype": "text/x-python",
   "name": "python",
   "nbconvert_exporter": "python",
   "pygments_lexer": "ipython3",
   "version": "3.7.1"
  }
 },
 "nbformat": 4,
 "nbformat_minor": 2
}
